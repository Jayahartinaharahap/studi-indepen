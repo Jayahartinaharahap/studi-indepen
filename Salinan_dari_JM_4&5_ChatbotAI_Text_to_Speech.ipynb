{
  "cells": [
    {
      "cell_type": "markdown",
      "metadata": {
        "id": "view-in-github",
        "colab_type": "text"
      },
      "source": [
        "<a href=\"https://colab.research.google.com/github/Jayahartinaharahap/studi-indepen/blob/main/Salinan_dari_JM_4%265_ChatbotAI_Text_to_Speech.ipynb\" target=\"_parent\"><img src=\"https://colab.research.google.com/assets/colab-badge.svg\" alt=\"Open In Colab\"/></a>"
      ]
    },
    {
      "cell_type": "markdown",
      "metadata": {
        "id": "za1gVNL5CRGY"
      },
      "source": [
        "# AI Chatbot in Python\n",
        "> Chatbot sederhana ini menggunakan konsep sederhana penerapan Cosine Similarity\n",
        "\n",
        "> Disini program Chatbot dibuat dengan sesuai kebutuhan pengguna, jadi kita bisa memilih apakah harus membuat program ini bisa bekerja pada topik tertentu, misalnya untuk Chatbot berbasis Covid-19, atau yang lainnya yang sedang relevan."
      ]
    },
    {
      "cell_type": "code",
      "execution_count": null,
      "metadata": {
        "id": "yE4rWjtACRGf"
      },
      "outputs": [],
      "source": [
        "#sumber materi : https://towardsdatascience.com/making-a-simple-and-fast-chatbot-in-10-minutes-2d84a4ba35e\n",
        "#https://youtu.be/9KZwRBg4-P0"
      ]
    },
    {
      "cell_type": "markdown",
      "metadata": {
        "id": "YZW2gMYW-ZBR"
      },
      "source": [
        "# Tools scraping Artikel\n",
        "\n",
        "Pada program kali ini kita akan mengambil teks dari internet menggunakan tools newspaper3k, dimana tools ini memiliki beberapa kelebihan yaitu:\n",
        "1. Kerangka kerja dalam mengunduh artikel yang multi-thread\n",
        "2. Dapat mengidentifikasi URL baru\n",
        "3. Mampu mengekstraksi teks dari HTML\n",
        "4. Terbaik dalam hal ekstraksi gambar dari HTML\n",
        "5. Mampu mengekstraksi semua gambar dari HTML\n",
        "6. Dapat mengekstraksi kata kunci dari teks\n",
        "7. Dapat mengekstrak ringkasan teks\n",
        "8. Dapat mengekstraksi nama penulis suatu artikel\n",
        "9. Dapat mengekstraksi istilah yang sedang trend di mesin pencarian Google\n",
        "10. Dapat bekerja lebih dari 10 bahasa (termasuk Inggris, Jerman, Arab, China, dll)"
      ]
    },
    {
      "cell_type": "code",
      "execution_count": null,
      "metadata": {
        "colab": {
          "base_uri": "https://localhost:8080/"
        },
        "id": "Q9_mnPq6NPUy",
        "outputId": "f8d46a5b-5797-4438-d12e-7f639a2f51cf"
      },
      "outputs": [
        {
          "output_type": "stream",
          "name": "stdout",
          "text": [
            "Collecting gtts\n",
            "  Downloading gTTS-2.2.4-py3-none-any.whl (26 kB)\n",
            "Requirement already satisfied: click in /usr/local/lib/python3.7/dist-packages (from gtts) (7.1.2)\n",
            "Requirement already satisfied: six in /usr/local/lib/python3.7/dist-packages (from gtts) (1.15.0)\n",
            "Requirement already satisfied: requests in /usr/local/lib/python3.7/dist-packages (from gtts) (2.23.0)\n",
            "Requirement already satisfied: certifi>=2017.4.17 in /usr/local/lib/python3.7/dist-packages (from requests->gtts) (2021.10.8)\n",
            "Requirement already satisfied: idna<3,>=2.5 in /usr/local/lib/python3.7/dist-packages (from requests->gtts) (2.10)\n",
            "Requirement already satisfied: urllib3!=1.25.0,!=1.25.1,<1.26,>=1.21.1 in /usr/local/lib/python3.7/dist-packages (from requests->gtts) (1.24.3)\n",
            "Requirement already satisfied: chardet<4,>=3.0.2 in /usr/local/lib/python3.7/dist-packages (from requests->gtts) (3.0.4)\n",
            "Installing collected packages: gtts\n",
            "Successfully installed gtts-2.2.4\n"
          ]
        }
      ],
      "source": [
        "!pip install gtts"
      ]
    },
    {
      "cell_type": "code",
      "execution_count": null,
      "metadata": {
        "colab": {
          "base_uri": "https://localhost:8080/"
        },
        "id": "ye3nyhSyCRGi",
        "outputId": "739f7e70-10de-4f8d-9674-81bed46540bb"
      },
      "outputs": [
        {
          "output_type": "stream",
          "name": "stdout",
          "text": [
            "Collecting newspaper3k\n",
            "  Downloading newspaper3k-0.2.8-py3-none-any.whl (211 kB)\n",
            "\u001b[?25l\r\u001b[K     |█▌                              | 10 kB 25.1 MB/s eta 0:00:01\r\u001b[K     |███                             | 20 kB 32.4 MB/s eta 0:00:01\r\u001b[K     |████▋                           | 30 kB 21.9 MB/s eta 0:00:01\r\u001b[K     |██████▏                         | 40 kB 12.7 MB/s eta 0:00:01\r\u001b[K     |███████▊                        | 51 kB 11.3 MB/s eta 0:00:01\r\u001b[K     |█████████▎                      | 61 kB 13.2 MB/s eta 0:00:01\r\u001b[K     |██████████▉                     | 71 kB 13.4 MB/s eta 0:00:01\r\u001b[K     |████████████▍                   | 81 kB 13.5 MB/s eta 0:00:01\r\u001b[K     |██████████████                  | 92 kB 14.8 MB/s eta 0:00:01\r\u001b[K     |███████████████▌                | 102 kB 14.6 MB/s eta 0:00:01\r\u001b[K     |█████████████████               | 112 kB 14.6 MB/s eta 0:00:01\r\u001b[K     |██████████████████▋             | 122 kB 14.6 MB/s eta 0:00:01\r\u001b[K     |████████████████████▏           | 133 kB 14.6 MB/s eta 0:00:01\r\u001b[K     |█████████████████████▊          | 143 kB 14.6 MB/s eta 0:00:01\r\u001b[K     |███████████████████████▎        | 153 kB 14.6 MB/s eta 0:00:01\r\u001b[K     |████████████████████████▉       | 163 kB 14.6 MB/s eta 0:00:01\r\u001b[K     |██████████████████████████▍     | 174 kB 14.6 MB/s eta 0:00:01\r\u001b[K     |████████████████████████████    | 184 kB 14.6 MB/s eta 0:00:01\r\u001b[K     |█████████████████████████████▌  | 194 kB 14.6 MB/s eta 0:00:01\r\u001b[K     |███████████████████████████████ | 204 kB 14.6 MB/s eta 0:00:01\r\u001b[K     |████████████████████████████████| 211 kB 14.6 MB/s \n",
            "\u001b[?25hCollecting jieba3k>=0.35.1\n",
            "  Downloading jieba3k-0.35.1.zip (7.4 MB)\n",
            "\u001b[K     |████████████████████████████████| 7.4 MB 49.9 MB/s \n",
            "\u001b[?25hRequirement already satisfied: nltk>=3.2.1 in /usr/local/lib/python3.7/dist-packages (from newspaper3k) (3.2.5)\n",
            "Collecting feedparser>=5.2.1\n",
            "  Downloading feedparser-6.0.8-py3-none-any.whl (81 kB)\n",
            "\u001b[K     |████████████████████████████████| 81 kB 10.7 MB/s \n",
            "\u001b[?25hCollecting tldextract>=2.0.1\n",
            "  Downloading tldextract-3.2.0-py3-none-any.whl (87 kB)\n",
            "\u001b[K     |████████████████████████████████| 87 kB 7.8 MB/s \n",
            "\u001b[?25hRequirement already satisfied: python-dateutil>=2.5.3 in /usr/local/lib/python3.7/dist-packages (from newspaper3k) (2.8.2)\n",
            "Requirement already satisfied: lxml>=3.6.0 in /usr/local/lib/python3.7/dist-packages (from newspaper3k) (4.2.6)\n",
            "Requirement already satisfied: Pillow>=3.3.0 in /usr/local/lib/python3.7/dist-packages (from newspaper3k) (7.1.2)\n",
            "Collecting cssselect>=0.9.2\n",
            "  Downloading cssselect-1.1.0-py2.py3-none-any.whl (16 kB)\n",
            "Collecting tinysegmenter==0.3\n",
            "  Downloading tinysegmenter-0.3.tar.gz (16 kB)\n",
            "Requirement already satisfied: requests>=2.10.0 in /usr/local/lib/python3.7/dist-packages (from newspaper3k) (2.23.0)\n",
            "Requirement already satisfied: beautifulsoup4>=4.4.1 in /usr/local/lib/python3.7/dist-packages (from newspaper3k) (4.6.3)\n",
            "Collecting feedfinder2>=0.0.4\n",
            "  Downloading feedfinder2-0.0.4.tar.gz (3.3 kB)\n",
            "Requirement already satisfied: PyYAML>=3.11 in /usr/local/lib/python3.7/dist-packages (from newspaper3k) (3.13)\n",
            "Requirement already satisfied: six in /usr/local/lib/python3.7/dist-packages (from feedfinder2>=0.0.4->newspaper3k) (1.15.0)\n",
            "Collecting sgmllib3k\n",
            "  Downloading sgmllib3k-1.0.0.tar.gz (5.8 kB)\n",
            "Requirement already satisfied: chardet<4,>=3.0.2 in /usr/local/lib/python3.7/dist-packages (from requests>=2.10.0->newspaper3k) (3.0.4)\n",
            "Requirement already satisfied: certifi>=2017.4.17 in /usr/local/lib/python3.7/dist-packages (from requests>=2.10.0->newspaper3k) (2021.10.8)\n",
            "Requirement already satisfied: urllib3!=1.25.0,!=1.25.1,<1.26,>=1.21.1 in /usr/local/lib/python3.7/dist-packages (from requests>=2.10.0->newspaper3k) (1.24.3)\n",
            "Requirement already satisfied: idna<3,>=2.5 in /usr/local/lib/python3.7/dist-packages (from requests>=2.10.0->newspaper3k) (2.10)\n",
            "Requirement already satisfied: filelock>=3.0.8 in /usr/local/lib/python3.7/dist-packages (from tldextract>=2.0.1->newspaper3k) (3.6.0)\n",
            "Collecting requests-file>=1.4\n",
            "  Downloading requests_file-1.5.1-py2.py3-none-any.whl (3.7 kB)\n",
            "Building wheels for collected packages: tinysegmenter, feedfinder2, jieba3k, sgmllib3k\n",
            "  Building wheel for tinysegmenter (setup.py) ... \u001b[?25l\u001b[?25hdone\n",
            "  Created wheel for tinysegmenter: filename=tinysegmenter-0.3-py3-none-any.whl size=13553 sha256=86a51e042ffa45428b9e43c7ccd65f5c2a4ac146373202ce6b339d63eddb7b54\n",
            "  Stored in directory: /root/.cache/pip/wheels/df/67/41/faca10fa501ca010be41b49d40360c2959e1c4f09bcbfa37fa\n",
            "  Building wheel for feedfinder2 (setup.py) ... \u001b[?25l\u001b[?25hdone\n",
            "  Created wheel for feedfinder2: filename=feedfinder2-0.0.4-py3-none-any.whl size=3357 sha256=4e2a073aa2f5a2e1d198832b3ae6c28dc222f14b7577dfc9019197e9fae10779\n",
            "  Stored in directory: /root/.cache/pip/wheels/7f/d4/8f/6e2ca54744c9d7292d88ddb8d42876bcdab5e6d84a21c10346\n",
            "  Building wheel for jieba3k (setup.py) ... \u001b[?25l\u001b[?25hdone\n",
            "  Created wheel for jieba3k: filename=jieba3k-0.35.1-py3-none-any.whl size=7398404 sha256=295f7dde74b93aa173e2c53cf4e8b1c60c8ba95f45b2488cdde64bae5f0bf57d\n",
            "  Stored in directory: /root/.cache/pip/wheels/4c/91/46/3c208287b726df325a5979574324878b679116e4baae1af3c3\n",
            "  Building wheel for sgmllib3k (setup.py) ... \u001b[?25l\u001b[?25hdone\n",
            "  Created wheel for sgmllib3k: filename=sgmllib3k-1.0.0-py3-none-any.whl size=6066 sha256=7bfd274b7f43ca5ae375c39f4b69ebd9f492e25dd5558050838d302944dd1b6b\n",
            "  Stored in directory: /root/.cache/pip/wheels/73/ad/a4/0dff4a6ef231fc0dfa12ffbac2a36cebfdddfe059f50e019aa\n",
            "Successfully built tinysegmenter feedfinder2 jieba3k sgmllib3k\n",
            "Installing collected packages: sgmllib3k, requests-file, tldextract, tinysegmenter, jieba3k, feedparser, feedfinder2, cssselect, newspaper3k\n",
            "Successfully installed cssselect-1.1.0 feedfinder2-0.0.4 feedparser-6.0.8 jieba3k-0.35.1 newspaper3k-0.2.8 requests-file-1.5.1 sgmllib3k-1.0.0 tinysegmenter-0.3 tldextract-3.2.0\n"
          ]
        }
      ],
      "source": [
        "!pip install newspaper3k"
      ]
    },
    {
      "cell_type": "code",
      "execution_count": null,
      "metadata": {
        "id": "4FGmgeEECRGi"
      },
      "outputs": [],
      "source": [
        "# Import library\n",
        "from newspaper import Article\n",
        "import random\n",
        "import nltk\n",
        "import string\n",
        "from sklearn.feature_extraction.text import CountVectorizer\n",
        "from sklearn.metrics.pairwise import cosine_similarity\n",
        "import numpy as np\n",
        "import pandas as pd\n",
        "import warnings\n",
        "import re\n",
        "warnings.filterwarnings('ignore')\n",
        "\n",
        "from gtts import gTTS\n",
        "import IPython.display as ipd\n",
        "import time\n",
        "from io import BytesIO"
      ]
    },
    {
      "cell_type": "code",
      "execution_count": null,
      "metadata": {
        "colab": {
          "base_uri": "https://localhost:8080/"
        },
        "id": "Sa8BD2nwCRGj",
        "outputId": "2dab7b2b-5d06-4f34-8cc7-0a32a1d53581"
      },
      "outputs": [
        {
          "output_type": "execute_result",
          "data": {
            "text/plain": [
              "True"
            ]
          },
          "metadata": {},
          "execution_count": 5
        }
      ],
      "source": [
        "nltk.download('punkt', quiet=True)"
      ]
    },
    {
      "cell_type": "markdown",
      "metadata": {
        "id": "LTnOWF68CRGk"
      },
      "source": [
        "# Proses 1 (Membuat korpus dengan mendownload artikel dari sebuah link)\n",
        "\n",
        "Link dapat diganti dengan link teks berbhasa Indonesia, tetapi kali ini kita mencoba menggunakan teks berbahasa Inggris terlebih dahulu. "
      ]
    },
    {
      "cell_type": "code",
      "execution_count": null,
      "metadata": {
        "colab": {
          "base_uri": "https://localhost:8080/"
        },
        "id": "otZH3R0eCRGk",
        "outputId": "9894e860-dea4-412f-b0cf-e921c5d29084"
      },
      "outputs": [
        {
          "output_type": "stream",
          "name": "stdout",
          "text": [
            "Learn more from kidney doctor Andrew Bentall, M.D.\n",
            "\n",
            "I'm Dr. Andrew Bentall, a kidney doctor at Mayo Clinic. I look after patients with kidney disease, either in the early stages, or with more advanced kidney disease considering dialysis and transplantation as treatment options. In this video, we'll cover the basics of chronic kidney disease. What is it? Who gets it? The symptoms, diagnosis and treatment. Whether you are looking for answers for yourself or for someone you love, we're here to give you the best information available.\n",
            "\n",
            "Chronic kidney disease is a disease characterized by progressive damage and loss of function in the kidneys. It's estimated that chronic kidney disease affects about one in seven American adults. And most of those don't know they have it. Before we get into the disease itself, let's talk a little bit about the kidneys and what they do. Our kidneys play many important roles keeping our bodies in balance. They remove waste and toxins, excess water from the bloodstream, which is carried out of the body in urine. They helped to make hormones to produce red blood cells, and they turn vitamin D into its active form, so it's usable in the body.\n",
            "\n",
            "There are quite a few things that can cause or put you at higher risk for chronic kidney disease. Some of them are not things that can be avoided. Your risk is simply higher if you have a family history of certain genetic conditions like polycystic kidney disease or some autoimmune diseases like lupus or IgA nephropathy. Defects in the kidney structure can also cause your kidneys to fail, and you have an increased risk as you get older. Sometimes, other common medical conditions can increase your risk. Diabetes is the most common cause of kidney disease. Both type 1 and type 2 diabetes. But also heart disease and obesity can contribute to the damage that causes kidneys to fail. Urinary tract issues and inflammation in different parts of the kidney can also lead to long-term functional decline. There are things that are more under our control: Heavy or long-term use of certain medications, even those that are common over-the-counter. Smoking can also be a contributing factor to chronic kidney disease.\n",
            "\n",
            "Often there are no outward signs in the earlier stages of chronic kidney disease, which is grouped into stages 1 through 5. Generally, earlier stages are known as 1 to 3. And as kidney disease progresses, you may notice the following symptoms. Nausea and vomiting, muscle cramps, loss of appetite, swelling via feet and ankles, dry, itchy skin, shortness of breath, trouble sleeping, urinating either too much or too little. However, these are usually in the later stages, but they can also happen in other disorders. So don't automatically interpret this as having kidney disease. But if you're experiencing anything that concerns you, you should make an appointment with your doctor.\n",
            "\n",
            "Even before any symptoms appear, routine blood work can indicate that you might be in the early stages of chronic kidney disease. And the earlier it's detected, the easier it is to treat. This is why regular checkups with your doctor are important. If your doctor suspects the onset of chronic kidney disease, they may schedule a variety of other tests. They may also refer you to a kidney specialist, a nephrologist like myself. Urine tests can reveal abnormalities and give clues to the underlying cause of the chronic kidney disease. And this can also help to determine the underlying issues. Various imaging tests like ultrasounds or CT scans can be done to help your doctor assess the size, the structure, as well as evaluate the visible damage, inflammation or stones of your kidneys. And in some cases, a kidney biopsy may be necessary. And a small amount of tissue is taken with a needle and sent to the pathologist for further analysis.\n",
            "\n",
            "Treatment is determined by what is causing your kidneys to not function normally. Treating the cause is key, leading to reduced complications and slowing progression of kidney disease. For example, getting better blood pressure control, improved sugar control and diabetes, and reducing weight are often key interventions. However, existing damage is not usually reversible. In some conditions, treatment can reverse the cause of the disease. So seeking medical review is really important. Individual complications vary, but treatment might include high blood pressure medication, diuretics to reduce fluid and swelling, supplements to relieve anemia, statins to lower cholesterol, or medications to protect your bones and prevent blood vessel calcification. A lower-protein diet may also be recommended. It reduces the amount of waste your kidneys need to filter from your blood. These can not only slow the damage of kidney disease, but make you feel better as well. When the damage has progressed to the point that 85 to 90 percent of your kidney function is gone, and they no longer work well enough to keep you alive, it's called end-stage kidney failure. But there are still options. There's dialysis, which uses a machine to filter the toxins and remove water from your body as your kidneys are no longer able to do this. Where possible, the preferred therapy is a kidney transplant. While an organ transplant can sound daunting, it's actually often the better alternative, and the closest thing to a cure, if you qualify for a kidney transplant.\n",
            "\n",
            "If you have kidney disease, there are lifestyle choices. Namely quit smoking. Consuming alcohol in moderation. If you're overweight or obese, then try to lose weight. Staying active and getting exercise can help not only with your weight, but fatigue and stress. If your condition allows, keep up with your routine, whether that's working, hobbies, social activities, or other things you enjoy. It can be helpful to talk to someone you trust, a friend or relative who's good at listening. Or your doctor could also refer you to a therapist or social worker. It can also be helpful to find a support group and connect with people going through the same thing. Learning you have chronic kidney disease and learning how to live with it can be a challenge. But there are lots of ways to help you to be more comfortable for longer before more drastic measures are needed. And even then, there is plenty of hope. If you'd like to learn even more about chronic kidney disease, watch our other related videos or visit mayoclinic.org. We wish you well.\n"
          ]
        }
      ],
      "source": [
        "article = Article('https://www.mayoclinic.org/diseases-conditions/chronic-kidney-disease/symptoms-causes/syc-20354521')\n",
        "article.download()\n",
        "article.parse()\n",
        "article.nlp()\n",
        "corpus = article.text\n",
        "print(corpus)"
      ]
    },
    {
      "cell_type": "markdown",
      "metadata": {
        "id": "bGmRAQ9WCRGl"
      },
      "source": [
        "# Proses 2 (Tokenization)"
      ]
    },
    {
      "cell_type": "code",
      "execution_count": null,
      "metadata": {
        "colab": {
          "base_uri": "https://localhost:8080/"
        },
        "id": "vh1UaZ3kCRGl",
        "outputId": "56d40cb2-b234-4f80-ac88-e2488a95691e"
      },
      "outputs": [
        {
          "output_type": "stream",
          "name": "stdout",
          "text": [
            "['Learn more from kidney doctor Andrew Bentall, M.D.', \"I'm Dr. Andrew Bentall, a kidney doctor at Mayo Clinic.\", 'I look after patients with kidney disease, either in the early stages, or with more advanced kidney disease considering dialysis and transplantation as treatment options.', \"In this video, we'll cover the basics of chronic kidney disease.\", 'What is it?', 'Who gets it?', 'The symptoms, diagnosis and treatment.', \"Whether you are looking for answers for yourself or for someone you love, we're here to give you the best information available.\", 'Chronic kidney disease is a disease characterized by progressive damage and loss of function in the kidneys.', \"It's estimated that chronic kidney disease affects about one in seven American adults.\", \"And most of those don't know they have it.\", \"Before we get into the disease itself, let's talk a little bit about the kidneys and what they do.\", 'Our kidneys play many important roles keeping our bodies in balance.', 'They remove waste and toxins, excess water from the bloodstream, which is carried out of the body in urine.', \"They helped to make hormones to produce red blood cells, and they turn vitamin D into its active form, so it's usable in the body.\", 'There are quite a few things that can cause or put you at higher risk for chronic kidney disease.', 'Some of them are not things that can be avoided.', 'Your risk is simply higher if you have a family history of certain genetic conditions like polycystic kidney disease or some autoimmune diseases like lupus or IgA nephropathy.', 'Defects in the kidney structure can also cause your kidneys to fail, and you have an increased risk as you get older.', 'Sometimes, other common medical conditions can increase your risk.', 'Diabetes is the most common cause of kidney disease.', 'Both type 1 and type 2 diabetes.', 'But also heart disease and obesity can contribute to the damage that causes kidneys to fail.', 'Urinary tract issues and inflammation in different parts of the kidney can also lead to long-term functional decline.', 'There are things that are more under our control: Heavy or long-term use of certain medications, even those that are common over-the-counter.', 'Smoking can also be a contributing factor to chronic kidney disease.', 'Often there are no outward signs in the earlier stages of chronic kidney disease, which is grouped into stages 1 through 5.', 'Generally, earlier stages are known as 1 to 3.', 'And as kidney disease progresses, you may notice the following symptoms.', 'Nausea and vomiting, muscle cramps, loss of appetite, swelling via feet and ankles, dry, itchy skin, shortness of breath, trouble sleeping, urinating either too much or too little.', 'However, these are usually in the later stages, but they can also happen in other disorders.', \"So don't automatically interpret this as having kidney disease.\", \"But if you're experiencing anything that concerns you, you should make an appointment with your doctor.\", 'Even before any symptoms appear, routine blood work can indicate that you might be in the early stages of chronic kidney disease.', \"And the earlier it's detected, the easier it is to treat.\", 'This is why regular checkups with your doctor are important.', 'If your doctor suspects the onset of chronic kidney disease, they may schedule a variety of other tests.', 'They may also refer you to a kidney specialist, a nephrologist like myself.', 'Urine tests can reveal abnormalities and give clues to the underlying cause of the chronic kidney disease.', 'And this can also help to determine the underlying issues.', 'Various imaging tests like ultrasounds or CT scans can be done to help your doctor assess the size, the structure, as well as evaluate the visible damage, inflammation or stones of your kidneys.', 'And in some cases, a kidney biopsy may be necessary.', 'And a small amount of tissue is taken with a needle and sent to the pathologist for further analysis.', 'Treatment is determined by what is causing your kidneys to not function normally.', 'Treating the cause is key, leading to reduced complications and slowing progression of kidney disease.', 'For example, getting better blood pressure control, improved sugar control and diabetes, and reducing weight are often key interventions.', 'However, existing damage is not usually reversible.', 'In some conditions, treatment can reverse the cause of the disease.', 'So seeking medical review is really important.', 'Individual complications vary, but treatment might include high blood pressure medication, diuretics to reduce fluid and swelling, supplements to relieve anemia, statins to lower cholesterol, or medications to protect your bones and prevent blood vessel calcification.', 'A lower-protein diet may also be recommended.', 'It reduces the amount of waste your kidneys need to filter from your blood.', 'These can not only slow the damage of kidney disease, but make you feel better as well.', \"When the damage has progressed to the point that 85 to 90 percent of your kidney function is gone, and they no longer work well enough to keep you alive, it's called end-stage kidney failure.\", 'But there are still options.', \"There's dialysis, which uses a machine to filter the toxins and remove water from your body as your kidneys are no longer able to do this.\", 'Where possible, the preferred therapy is a kidney transplant.', \"While an organ transplant can sound daunting, it's actually often the better alternative, and the closest thing to a cure, if you qualify for a kidney transplant.\", 'If you have kidney disease, there are lifestyle choices.', 'Namely quit smoking.', 'Consuming alcohol in moderation.', \"If you're overweight or obese, then try to lose weight.\", 'Staying active and getting exercise can help not only with your weight, but fatigue and stress.', \"If your condition allows, keep up with your routine, whether that's working, hobbies, social activities, or other things you enjoy.\", \"It can be helpful to talk to someone you trust, a friend or relative who's good at listening.\", 'Or your doctor could also refer you to a therapist or social worker.', 'It can also be helpful to find a support group and connect with people going through the same thing.', 'Learning you have chronic kidney disease and learning how to live with it can be a challenge.', 'But there are lots of ways to help you to be more comfortable for longer before more drastic measures are needed.', 'And even then, there is plenty of hope.', \"If you'd like to learn even more about chronic kidney disease, watch our other related videos or visit mayoclinic.org.\", 'We wish you well.']\n"
          ]
        }
      ],
      "source": [
        "# Tokenization\n",
        "text = corpus\n",
        "sentence_list = nltk.sent_tokenize(text) #A list of senetences\n",
        "\n",
        "# Print the list of sentences\n",
        "print(sentence_list)\n"
      ]
    },
    {
      "cell_type": "markdown",
      "metadata": {
        "id": "A0kZDPHxCRGm"
      },
      "source": [
        "# Proses 3 (Bot Response)\n",
        "\n",
        "Bot respon digunakan untuk membuat sebuah percakapan awal antara pengguna dengan bot, jadi disini user dapat menyapa bot, nah untuk kata-kata dapat diganti sesuai dengan kebutuhan, misalnya bahasa indonesia. \n",
        "\n",
        "Pada percakapan awal tidak menggunakan ML atau metode lainnya, program hanya menjawab dengan kata yang di cocokkan sebagai input."
      ]
    },
    {
      "cell_type": "code",
      "execution_count": null,
      "metadata": {
        "id": "qII0gu1dCRGm"
      },
      "outputs": [],
      "source": [
        "#a function to return a random greeting response to a users greeting\n",
        "def greeting_response(text):\n",
        "    text = text.lower()\n",
        "    \n",
        "    #Bots greeting respone\n",
        "    bot_greetings = ['howdy','hi','hello','hola']\n",
        "    \n",
        "    #Users greeting\n",
        "    user_greetings = ['hi','hey','hello','greetings','wassup']\n",
        "    \n",
        "    for word in text.split():\n",
        "        if word in user_greetings:\n",
        "            return random.choice(bot_greetings)\n",
        "        \n",
        "    #Random response to greeting\n",
        "    def gratitude_response(text):\n",
        "        text=text.lower()\n",
        "   \n"
      ]
    },
    {
      "cell_type": "markdown",
      "metadata": {
        "id": "AZEgMQCr_HtI"
      },
      "source": [
        "1. Pada list kode bot_greetings itu bentuk kata sapaan bot terhadap sapaan yang kita berikan, dan dapat diganti dengan bahasa Indonesia atau lainnya.\n",
        "2. Sedangkan, pada list user_greetings itu kata sapaan input dari user dan dapat diganti dengan bahasa lainnya."
      ]
    },
    {
      "cell_type": "markdown",
      "metadata": {
        "id": "oTHbuHoO_SXL"
      },
      "source": [
        "# Sorting List"
      ]
    },
    {
      "cell_type": "code",
      "execution_count": null,
      "metadata": {
        "id": "ZQnYG5nQCRGn"
      },
      "outputs": [],
      "source": [
        " def index_sort(list_var):\n",
        "    length = len(list_var)\n",
        "    list_index = list(range(0, length))\n",
        "    \n",
        "    x = list_var        \n",
        "    for i in range(length):\n",
        "        for j in range(length):\n",
        "            if x[list_index[i]] > x[list_index[j]]:\n",
        "                #swap\n",
        "                temp = list_index[i]\n",
        "                list_index[i] = list_index[j]\n",
        "                list_index[j] = temp\n",
        "                \n",
        "    return list_index"
      ]
    },
    {
      "cell_type": "markdown",
      "metadata": {
        "id": "tIuiijdc_YZ2"
      },
      "source": [
        "# Chatbot Respon Menggunakan Cosine Similarity\n",
        "\n",
        "Pada respon bot menggunakan teknis Cosine Similarity untuk menghitung kata yang cocok dengan yang di input user terhadap respon dari Bot"
      ]
    },
    {
      "cell_type": "code",
      "execution_count": null,
      "metadata": {
        "id": "VrBJ58bvCRGn"
      },
      "outputs": [],
      "source": [
        "# Creat Bots Response\n",
        "def bot_response(user_input):\n",
        "    user_input=user_input.lower()\n",
        "    sentence_list.append(user_input)\n",
        "    bot_response= ''\n",
        "    cm=CountVectorizer().fit_transform(sentence_list)\n",
        "    similarity_scores=cosine_similarity(cm[-1],cm)\n",
        "    similarity_scores_list=similarity_scores.flatten()\n",
        "    index=index_sort(similarity_scores_list)\n",
        "    index=index[1:]\n",
        "    response_flag=0\n",
        "    \n",
        "    j=0\n",
        "    for i in range(len(index)):\n",
        "        if similarity_scores_list[index[i]]>0.0:\n",
        "            bot_response=bot_response+' '+sentence_list[index[i]]\n",
        "            response_flag=1\n",
        "            j=j+1\n",
        "        if j>2:\n",
        "            break\n",
        "\n",
        "        if response_flag==0:\n",
        "            bot_response=bot_response+\" \"+\"I apologize, I dont understand\"\n",
        "\n",
        "        sentence_list.remove(user_input) \n",
        "\n",
        "        return bot_response"
      ]
    },
    {
      "cell_type": "markdown",
      "metadata": {
        "id": "2fvjGhBU_nyk"
      },
      "source": [
        "Pada listing kode >bot_response=bot_response+\" \"+\"I apologize, I dont understand\" pada list kode ini kata I apologize tujuannya untuk memberikan respon karena sistem tidak mengenali kata yang kita input, jadi sebagai bentuk respon bot kepada user. Kata tersebut bisa diganti dengan bahasa Indonesia, misalnya \"Maaf saya tidak mengetahui arti atau tidak mengenali kata-kata yang di input\"."
      ]
    },
    {
      "cell_type": "markdown",
      "metadata": {
        "id": "8-C33RGuCRGo"
      },
      "source": [
        "# Proses 4 (End Process, Making chat box)"
      ]
    },
    {
      "cell_type": "code",
      "execution_count": null,
      "metadata": {
        "colab": {
          "base_uri": "https://localhost:8080/",
          "height": 251
        },
        "id": "7GTB7h9TCRGo",
        "outputId": "52ecf89e-94bb-4971-ded3-17dd8f6ac9a1"
      },
      "outputs": [
        {
          "output_type": "stream",
          "name": "stdout",
          "text": [
            "Doc Bot: I am DOc bot and I will answer your queries about chronic kidney disease, if you want to exit type, bye  ?\n",
            "hi\n",
            "Doc Bot: howdy\n",
            "what is chronic kidney disease ?\n",
            "Doc Bot:  Chronic kidney disease is a disease characterized by progressive damage and loss of function in the kidneys.\n",
            "Kamu:\n",
            "\n"
          ]
        },
        {
          "output_type": "display_data",
          "data": {
            "text/plain": [
              "<IPython.lib.display.Audio object>"
            ],
            "text/html": [
              "\n",
              "                <audio controls=\"controls\" autoplay=\"autoplay\">\n",
              "                    <source src=\"data:audio/x-wav;base64,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\" type=\"audio/x-wav\" />\n",
              "                    Your browser does not support the audio element.\n",
              "                </audio>\n",
              "              "
            ]
          },
          "metadata": {}
        },
        {
          "output_type": "stream",
          "name": "stdout",
          "text": [
            "============================================================\n",
            "\n"
          ]
        }
      ],
      "source": [
        "#Start Chat\n",
        "print(\"Doc Bot: I am DOc bot and I will answer your queries about chronic kidney disease, if you want to exit type, bye  ?\")\n",
        "\n",
        "exit_list=['exit','bye','see you later','quit']\n",
        "\n",
        "while(True):\n",
        "    user_input=input()\n",
        "    stt\n",
        "    if user_input.lower() in exit_list:\n",
        "        print('Doc Bot: Bye Bye See you later')\n",
        "        break\n",
        "    else:\n",
        "        if greeting_response(user_input)!= None:\n",
        "            print('Doc Bot: '+ greeting_response(user_input))\n",
        "        else:\n",
        "            print('Doc Bot: '+ bot_response(user_input))\n",
        "            tts = gTTS(bot_response(user_input), lang='en')\n",
        "            tts.save('mantap.wav')\n",
        "            time.sleep(0.08)\n",
        "            print(\"Kamu:\\n\")\n",
        "            ipd.display(ipd.Audio('mantap.wav', autoplay=True))\n",
        "            \n",
        "            print(\"=\"*60 + \"\\n\")"
      ]
    },
    {
      "cell_type": "markdown",
      "metadata": {
        "id": "WavLomgtHxRI"
      },
      "source": [
        "Doc Bot ganti dengan ini atau sesuai dengan topik yang lagi di bahas, print(\"Doc Bot: Mau nanya apa kamu tentang kabel laut?\")"
      ]
    },
    {
      "cell_type": "code",
      "execution_count": null,
      "metadata": {
        "id": "WWdOizj-CRGp"
      },
      "outputs": [],
      "source": [
        "#buat pertanyaan pada kolom diatas seperti : what is chronic kidney disease?, dll."
      ]
    },
    {
      "cell_type": "markdown",
      "metadata": {
        "id": "zJ5gxzVCgftf"
      },
      "source": [
        "---\n",
        "# AI Chatbot Versi Bahasa **Indonesia**\n",
        "# Proses 1 (Making Corpus with Download an Article)"
      ]
    },
    {
      "cell_type": "code",
      "execution_count": null,
      "metadata": {
        "id": "FYT3-ERtgjjS"
      },
      "outputs": [],
      "source": [
        "article = Article('https://warstek.com/kabel-laut/')\n",
        "article.download()\n",
        "article.parse()\n",
        "article.nlp()\n",
        "corpus = article.text\n",
        "print(corpus)"
      ]
    },
    {
      "cell_type": "markdown",
      "metadata": {
        "id": "6KQ3Or6fiKxv"
      },
      "source": [
        "# Proses 2 (Tokenization)"
      ]
    },
    {
      "cell_type": "code",
      "execution_count": null,
      "metadata": {
        "id": "qsID-u6Gg012"
      },
      "outputs": [],
      "source": [
        "# Tokenization\n",
        "text = corpus\n",
        "sentence_list = nltk.sent_tokenize(text) #A list of senetences\n",
        "\n",
        "# Print the list of sentences\n",
        "print(sentence_list)"
      ]
    },
    {
      "cell_type": "code",
      "execution_count": null,
      "metadata": {
        "id": "iq-tYfnBiS06"
      },
      "outputs": [],
      "source": [
        ""
      ]
    },
    {
      "cell_type": "code",
      "execution_count": null,
      "metadata": {
        "id": "lYvkaKOHiia2"
      },
      "outputs": [],
      "source": [
        "#a function to return a random greeting response to a users greeting\n",
        "def greeting_response(text):\n",
        "    text = text.lower()\n",
        "    \n",
        "    #Bots greeting respone\n",
        "    bot_greetings = ['halo','hai','yuhuu','*eyebrows up*']\n",
        "    \n",
        "    #Users greeting\n",
        "    user_greetings = ['Haloo','Eh iyaa Haii','Hai','greetings','wassup']\n",
        "    \n",
        "    for word in text.split():\n",
        "        if word in user_greetings:\n",
        "            return random.choice(bot_greetings)\n",
        "        \n",
        "    #Random response to greeting\n",
        "    #def gratitude_response(text):\n",
        "        #text=text.lower()\n",
        "   \n"
      ]
    },
    {
      "cell_type": "code",
      "execution_count": null,
      "metadata": {
        "id": "TZU6BZB3iia7"
      },
      "outputs": [],
      "source": [
        " def index_sort(list_var):\n",
        "    length = len(list_var)\n",
        "    list_index = list(range(0, length))\n",
        "    \n",
        "    x = list_var        \n",
        "    for i in range(length):\n",
        "        for j in range(length):\n",
        "            if x[list_index[i]] > x[list_index[j]]:\n",
        "                #swap\n",
        "                temp = list_index[i]\n",
        "                list_index[i] = list_index[j]\n",
        "                list_index[j] = temp\n",
        "                \n",
        "    return list_index"
      ]
    },
    {
      "cell_type": "code",
      "execution_count": null,
      "metadata": {
        "id": "jgD-wmTwiia7"
      },
      "outputs": [],
      "source": [
        "# Creat Bots Response\n",
        "def bot_response(user_input):\n",
        "    user_input=user_input.lower()\n",
        "    sentence_list.append(user_input)\n",
        "    bot_response= ''\n",
        "    cm=CountVectorizer().fit_transform(sentence_list)\n",
        "    similarity_scores=cosine_similarity(cm[-1],cm)\n",
        "    similarity_scores_list=similarity_scores.flatten()\n",
        "    index=index_sort(similarity_scores_list)\n",
        "    index=index[1:]\n",
        "    response_flag=0\n",
        "    \n",
        "    j=0\n",
        "    for i in range(len(index)):\n",
        "        if similarity_scores_list[index[i]]>0.0:\n",
        "            bot_response=bot_response+' '+sentence_list[index[i]]\n",
        "            response_flag=1\n",
        "            j=j+1\n",
        "        if j>2:\n",
        "            break\n",
        "\n",
        "        if response_flag==0:\n",
        "            bot_response=bot_response+\" \"+\"I apologize, I dont understand\"\n",
        "\n",
        "        sentence_list.remove(user_input) \n",
        "\n",
        "        return bot_response"
      ]
    },
    {
      "cell_type": "markdown",
      "metadata": {
        "id": "PVF_g7Xyiia8"
      },
      "source": [
        "# Proses 4 (End Process, Making chat box)"
      ]
    },
    {
      "cell_type": "code",
      "execution_count": null,
      "metadata": {
        "id": "knRbg2R0iia8"
      },
      "outputs": [],
      "source": [
        "#Start Chat\n",
        "print(\"Doc Bot: Mau nanya apa kamu tentang kabel laut\")\n",
        "\n",
        "exit_list=['exit','bye','keluar','quit', 'sampai jumpa']\n",
        "\n",
        "while(True):\n",
        "    user_input=input()\n",
        "    if user_input.lower() in exit_list:\n",
        "        print('Doc Bot: Bye Bye Sampai jumpa lagi')\n",
        "        break\n",
        "    else:\n",
        "        if greeting_response(user_input)!= None:\n",
        "            print('Doc Bot: '+ greeting_response(user_input))\n",
        "            \n",
        "        else:\n",
        "            print('Doc Bot: '+ bot_response(user_input))\n",
        "            tts = gTTS(bot_response(user_input), lang='id')\n",
        "            tts.save('mantap.wav')\n",
        "            time.sleep(0.08)\n",
        "            print(\"Kamu:\\n\")\n",
        "            ipd.display(ipd.Audio('mantap.wav', autoplay=True))\n",
        "            \n",
        "            print(\"=\"*60 + \"\\n\")"
      ]
    },
    {
      "cell_type": "code",
      "execution_count": null,
      "metadata": {
        "id": "H8psLH5Ji4ng"
      },
      "outputs": [],
      "source": [
        "#Coba berikan input kalimat berikut\n",
        "\n",
        "# kabel laut adalah\n",
        "# kabel laut untuk komunikasi internasional adalah"
      ]
    }
  ],
  "metadata": {
    "accelerator": "GPU",
    "colab": {
      "collapsed_sections": [],
      "name": "Salinan dari JM-4&5_ChatbotAI_Text to Speech.ipynb",
      "provenance": [],
      "include_colab_link": true
    },
    "kernelspec": {
      "display_name": "Python 3",
      "language": "python",
      "name": "python3"
    },
    "language_info": {
      "codemirror_mode": {
        "name": "ipython",
        "version": 3
      },
      "file_extension": ".py",
      "mimetype": "text/x-python",
      "name": "python",
      "nbconvert_exporter": "python",
      "pygments_lexer": "ipython3",
      "version": "3.8.8"
    }
  },
  "nbformat": 4,
  "nbformat_minor": 0
}